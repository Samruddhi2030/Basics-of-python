{
  "nbformat": 4,
  "nbformat_minor": 0,
  "metadata": {
    "colab": {
      "name": "Lecture 4.1.ipynb",
      "provenance": [],
      "collapsed_sections": []
    },
    "kernelspec": {
      "name": "python3",
      "display_name": "Python 3"
    },
    "language_info": {
      "name": "python"
    }
  },
  "cells": [
    {
      "cell_type": "markdown",
      "source": [
        "# **Data Stuctures**\n",
        "There are four collection data type in python programming language.\n",
        "1.Lists\n",
        "2.Tuples\n",
        "3.Sets\n",
        "4.Dictionaries"
      ],
      "metadata": {
        "id": "u9IfZEJ98bk1"
      }
    },
    {
      "cell_type": "code",
      "execution_count": 1,
      "metadata": {
        "colab": {
          "base_uri": "https://localhost:8080/"
        },
        "id": "aZfoqOml8UbJ",
        "outputId": "c298f994-003d-4ddd-a7ea-99f68fd5e016"
      },
      "outputs": [
        {
          "output_type": "stream",
          "name": "stdout",
          "text": [
            "<class 'list'>\n",
            "['Samruddhi', 'Juhi']\n",
            "<class 'str'>\n",
            "ganesh\n",
            "<class 'int'>\n",
            "200\n"
          ]
        }
      ],
      "source": [
        "b='ganesh'\n",
        "c=200\n",
        "a=[\"Samruddhi\",'Juhi']\n",
        "print(type(a))\n",
        "print(a)\n",
        "print(type(b))\n",
        "print(b)\n",
        "print(type(c))\n",
        "print(c)"
      ]
    },
    {
      "cell_type": "code",
      "source": [
        "names=['Raj','arjun','priya','Kishor','Anu']\n",
        "print(names)\n",
        "print(type(names))"
      ],
      "metadata": {
        "colab": {
          "base_uri": "https://localhost:8080/"
        },
        "id": "A0H-8N9g_Yfg",
        "outputId": "efcdad4f-2913-4fb1-cbc5-525d6d1db95c"
      },
      "execution_count": 12,
      "outputs": [
        {
          "output_type": "stream",
          "name": "stdout",
          "text": [
            "['Raj', 'arjun', 'priya', 'Kishor', 'Anu']\n",
            "<class 'list'>\n"
          ]
        }
      ]
    },
    {
      "cell_type": "code",
      "source": [
        "names\n",
        "print(names[:3]) #for first 3 index values\n",
        "print(names[2:]) #for from second index values onward"
      ],
      "metadata": {
        "colab": {
          "base_uri": "https://localhost:8080/"
        },
        "id": "DgpfC88qC6nt",
        "outputId": "eb2fbcdf-72c5-4aa4-a210-b3eb2a619fbc"
      },
      "execution_count": null,
      "outputs": [
        {
          "output_type": "stream",
          "name": "stdout",
          "text": [
            "['Raj', 'arjun', 'priya']\n",
            "['priya', 'Kishor', 'Anu']\n"
          ]
        }
      ]
    },
    {
      "cell_type": "code",
      "source": [
        "#Access items\n",
        "print(names[3])\n",
        "print(names[2:])\n",
        "print(names[:2])\n",
        "print(names[1:3])"
      ],
      "metadata": {
        "colab": {
          "base_uri": "https://localhost:8080/"
        },
        "id": "s_GnxAv8C24v",
        "outputId": "f42ee10c-01d7-4639-83a1-794eb8f2f5e0"
      },
      "execution_count": 4,
      "outputs": [
        {
          "output_type": "stream",
          "name": "stdout",
          "text": [
            "Kishor\n",
            "['priya', 'Kishor', 'Anu']\n",
            "['Raj', 'arjun']\n",
            "['arjun', 'priya']\n"
          ]
        }
      ]
    },
    {
      "cell_type": "code",
      "source": [
        "names"
      ],
      "metadata": {
        "colab": {
          "base_uri": "https://localhost:8080/"
        },
        "id": "oyM0Rh78EBh1",
        "outputId": "23c9c397-03d5-4aa0-e2fe-8e63a627b09b"
      },
      "execution_count": null,
      "outputs": [
        {
          "output_type": "execute_result",
          "data": {
            "text/plain": [
              "['Raj', 'arjun', 'priya', 'Kishor', 'Anu']"
            ]
          },
          "metadata": {},
          "execution_count": 6
        }
      ]
    },
    {
      "cell_type": "code",
      "source": [
        "#Negative index\n",
        "print(names[-1])\n",
        "print(names[-2:])\n",
        "print(names[:-2])\n",
        "print(names[-3:-1])"
      ],
      "metadata": {
        "colab": {
          "base_uri": "https://localhost:8080/"
        },
        "id": "IJUJ0Xq1EEaa",
        "outputId": "8dcd60e4-d592-47b8-e959-3d6f4b15dfc7"
      },
      "execution_count": 5,
      "outputs": [
        {
          "output_type": "stream",
          "name": "stdout",
          "text": [
            "Anu\n",
            "['Kishor', 'Anu']\n",
            "['Raj', 'arjun', 'priya']\n",
            "['priya', 'Kishor']\n"
          ]
        }
      ]
    },
    {
      "cell_type": "code",
      "source": [
        "#Change item in list\n",
        "print(names)\n",
        "names[3]=\"Joy\"\n",
        "print(names)"
      ],
      "metadata": {
        "colab": {
          "base_uri": "https://localhost:8080/"
        },
        "id": "l6zoQaIBEeE7",
        "outputId": "d5411517-18ed-4103-a5be-e5141ce53dc3"
      },
      "execution_count": 6,
      "outputs": [
        {
          "output_type": "stream",
          "name": "stdout",
          "text": [
            "['Raj', 'arjun', 'priya', 'Kishor', 'Anu']\n",
            "['Raj', 'arjun', 'priya', 'Joy', 'Anu']\n"
          ]
        }
      ]
    },
    {
      "cell_type": "code",
      "source": [
        "#Looping through lists\n",
        "for j in names :\n",
        "  print(j) #+'5'+j"
      ],
      "metadata": {
        "colab": {
          "base_uri": "https://localhost:8080/"
        },
        "id": "XAIduo_9E3G3",
        "outputId": "51fbd821-7656-4fa5-d475-87af518520f6"
      },
      "execution_count": 7,
      "outputs": [
        {
          "output_type": "stream",
          "name": "stdout",
          "text": [
            "Raj\n",
            "arjun\n",
            "priya\n",
            "Joy\n",
            "Anu\n"
          ]
        }
      ]
    },
    {
      "cell_type": "code",
      "source": [
        "#Nested list\n",
        "mylist=[1,2,3,['a','b',[5,6]]]\n",
        "print(mylist)"
      ],
      "metadata": {
        "colab": {
          "base_uri": "https://localhost:8080/"
        },
        "id": "CnFflVSwFVwH",
        "outputId": "287cca1b-556b-4089-fbdb-3685e882b6a0"
      },
      "execution_count": null,
      "outputs": [
        {
          "output_type": "stream",
          "name": "stdout",
          "text": [
            "[1, 2, 3, ['a', 'b', [5, 6]]]\n"
          ]
        }
      ]
    },
    {
      "cell_type": "code",
      "source": [
        "sp=[[\"science\"],[\"Commerce\"],[\"Arts\"]]\n",
        "sp"
      ],
      "metadata": {
        "colab": {
          "base_uri": "https://localhost:8080/"
        },
        "id": "sgl-BPtTFryB",
        "outputId": "7f978505-161c-4290-9fb0-b48c31c35edd"
      },
      "execution_count": 8,
      "outputs": [
        {
          "output_type": "execute_result",
          "data": {
            "text/plain": [
              "[['science'], ['Commerce'], ['Arts']]"
            ]
          },
          "metadata": {},
          "execution_count": 8
        }
      ]
    },
    {
      "cell_type": "markdown",
      "source": [
        "**Methods**"
      ],
      "metadata": {
        "id": "yOn_l8R0WCJL"
      }
    },
    {
      "cell_type": "code",
      "source": [
        "#Append():Adds an element at the end of the list.\n",
        "print(names)\n",
        "names.append(\"Kumar\")\n",
        "print(names)"
      ],
      "metadata": {
        "colab": {
          "base_uri": "https://localhost:8080/"
        },
        "id": "em8Pn33vVhhE",
        "outputId": "4a750591-6bd4-4794-e3e3-8f7810326e36"
      },
      "execution_count": 13,
      "outputs": [
        {
          "output_type": "stream",
          "name": "stdout",
          "text": [
            "['Raj', 'arjun', 'priya', 'Kishor', 'Anu']\n",
            "['Raj', 'arjun', 'priya', 'Kishor', 'Anu', 'Kumar']\n"
          ]
        }
      ]
    },
    {
      "cell_type": "code",
      "source": [
        "#Clear():Removes all the elements from the list.\n",
        "print(names)\n",
        "names.clear()\n",
        "print(names)"
      ],
      "metadata": {
        "colab": {
          "base_uri": "https://localhost:8080/"
        },
        "id": "M1UJ-XNnW09T",
        "outputId": "5a675299-f018-4986-9a5c-c05c64a23d11"
      },
      "execution_count": 14,
      "outputs": [
        {
          "output_type": "stream",
          "name": "stdout",
          "text": [
            "['Raj', 'arjun', 'priya', 'Kishor', 'Anu', 'Kumar']\n",
            "[]\n"
          ]
        }
      ]
    },
    {
      "cell_type": "code",
      "source": [
        "#Copy() : Return a copy of a list.\n",
        "names=['Raj','Arjun','Priya','Kishor','Anu','Raj']\n",
        "Names1=names.copy()\n",
        "print(Names1)"
      ],
      "metadata": {
        "colab": {
          "base_uri": "https://localhost:8080/"
        },
        "id": "rD2XpODbXG8X",
        "outputId": "4734c302-5291-4ae7-e5bf-d97da3997b6c"
      },
      "execution_count": 15,
      "outputs": [
        {
          "output_type": "stream",
          "name": "stdout",
          "text": [
            "['Raj', 'Arjun', 'Priya', 'Kishor', 'Anu', 'Raj']\n"
          ]
        }
      ]
    },
    {
      "cell_type": "code",
      "source": [
        "names"
      ],
      "metadata": {
        "colab": {
          "base_uri": "https://localhost:8080/"
        },
        "id": "FAkf6faaXxJA",
        "outputId": "354724e2-feda-47a8-b1d0-6589458861be"
      },
      "execution_count": 16,
      "outputs": [
        {
          "output_type": "execute_result",
          "data": {
            "text/plain": [
              "['Raj', 'Arjun', 'Priya', 'Kishor', 'Anu', 'Raj']"
            ]
          },
          "metadata": {},
          "execution_count": 16
        }
      ]
    },
    {
      "cell_type": "code",
      "source": [
        "# Count();Return the number of elements with the specified value.\n",
        "names.append(\"Raj\")\n",
        "x=names.count('Raj')\n",
        "print(x)"
      ],
      "metadata": {
        "colab": {
          "base_uri": "https://localhost:8080/"
        },
        "id": "vs_1jnL-X923",
        "outputId": "dd618b09-a184-4ed3-9d38-7cedff917f25"
      },
      "execution_count": 17,
      "outputs": [
        {
          "output_type": "stream",
          "name": "stdout",
          "text": [
            "3\n"
          ]
        }
      ]
    },
    {
      "cell_type": "code",
      "source": [
        "# del: Delete list\n",
        "print(Names1)\n",
        "del Names1\n",
        "print(Names1)"
      ],
      "metadata": {
        "colab": {
          "base_uri": "https://localhost:8080/",
          "height": 217
        },
        "id": "v4SRWdIcYhiv",
        "outputId": "97781343-8e47-40ef-f99f-a17d2e9374b1"
      },
      "execution_count": 19,
      "outputs": [
        {
          "output_type": "error",
          "ename": "NameError",
          "evalue": "ignored",
          "traceback": [
            "\u001b[0;31m---------------------------------------------------------------------------\u001b[0m",
            "\u001b[0;31mNameError\u001b[0m                                 Traceback (most recent call last)",
            "\u001b[0;32m<ipython-input-19-2b1b9ec0bc78>\u001b[0m in \u001b[0;36m<module>\u001b[0;34m()\u001b[0m\n\u001b[1;32m      1\u001b[0m \u001b[0;31m# del: Delete list\u001b[0m\u001b[0;34m\u001b[0m\u001b[0;34m\u001b[0m\u001b[0;34m\u001b[0m\u001b[0m\n\u001b[0;32m----> 2\u001b[0;31m \u001b[0mprint\u001b[0m\u001b[0;34m(\u001b[0m\u001b[0mNames1\u001b[0m\u001b[0;34m)\u001b[0m\u001b[0;34m\u001b[0m\u001b[0;34m\u001b[0m\u001b[0m\n\u001b[0m\u001b[1;32m      3\u001b[0m \u001b[0;32mdel\u001b[0m \u001b[0mNames1\u001b[0m\u001b[0;34m\u001b[0m\u001b[0;34m\u001b[0m\u001b[0m\n\u001b[1;32m      4\u001b[0m \u001b[0mprint\u001b[0m\u001b[0;34m(\u001b[0m\u001b[0mNames1\u001b[0m\u001b[0;34m)\u001b[0m\u001b[0;34m\u001b[0m\u001b[0;34m\u001b[0m\u001b[0m\n",
            "\u001b[0;31mNameError\u001b[0m: name 'Names1' is not defined"
          ]
        }
      ]
    },
    {
      "cell_type": "code",
      "source": [
        "# Extent(): add the elements of a list(or any iterable.)\n",
        "#To the end of the current list.\n",
        "cars=['Ford','BMW','Volvo']\n",
        "names.extend(cars)\n",
        "print(names)"
      ],
      "metadata": {
        "colab": {
          "base_uri": "https://localhost:8080/"
        },
        "id": "FpdEvkfNY6kN",
        "outputId": "2b649b3a-9a37-4061-f428-a1f2077c978a"
      },
      "execution_count": 20,
      "outputs": [
        {
          "output_type": "stream",
          "name": "stdout",
          "text": [
            "['Raj', 'Arjun', 'Priya', 'Kishor', 'Anu', 'Raj', 'Raj', 'Ford', 'BMW', 'Volvo']\n"
          ]
        }
      ]
    },
    {
      "cell_type": "code",
      "source": [
        "#len(): Length of a list.\n",
        "print(len(names))\n"
      ],
      "metadata": {
        "colab": {
          "base_uri": "https://localhost:8080/"
        },
        "id": "BTTq1B4DZcQ_",
        "outputId": "6e30730f-70da-4e3a-b67e-ada2cab9571b"
      },
      "execution_count": 22,
      "outputs": [
        {
          "output_type": "stream",
          "name": "stdout",
          "text": [
            "10\n"
          ]
        }
      ]
    },
    {
      "cell_type": "code",
      "source": [
        "#list(): Creates list from inputs.\n",
        "new_list=list(('Audi','BMW','Volvo'))\n",
        "print(new_list)"
      ],
      "metadata": {
        "colab": {
          "base_uri": "https://localhost:8080/"
        },
        "id": "e0hKIkuZZqRa",
        "outputId": "d0398aba-f6ac-489d-e292-6aadc8846011"
      },
      "execution_count": 24,
      "outputs": [
        {
          "output_type": "stream",
          "name": "stdout",
          "text": [
            "['Audi', 'BMW', 'Volvo']\n"
          ]
        }
      ]
    },
    {
      "cell_type": "code",
      "source": [
        "#Pop(); Removes the element at the specified position\n",
        "names.pop(2)\n",
        "#print ((names.pop(2)))\n",
        "print(names)\n",
        "#names.pop(2)\n",
        "#print(names)\n",
        "print(len(names))"
      ],
      "metadata": {
        "colab": {
          "base_uri": "https://localhost:8080/"
        },
        "id": "ZJcYzpNhbA5l",
        "outputId": "040d1611-f38b-4379-af75-ef5f7538ee7a"
      },
      "execution_count": 25,
      "outputs": [
        {
          "output_type": "stream",
          "name": "stdout",
          "text": [
            "['Raj', 'Arjun', 'Kishor', 'Anu', 'Raj', 'Raj', 'Ford', 'BMW', 'Volvo']\n",
            "9\n"
          ]
        }
      ]
    },
    {
      "cell_type": "code",
      "source": [
        "#remove() : Removes the item with the specified value\n",
        "names.remove('Raj')\n",
        "print(names)"
      ],
      "metadata": {
        "colab": {
          "base_uri": "https://localhost:8080/"
        },
        "id": "9q4u4OjFdQMa",
        "outputId": "33e5c678-ed6f-4a05-c638-8012d75218b6"
      },
      "execution_count": 26,
      "outputs": [
        {
          "output_type": "stream",
          "name": "stdout",
          "text": [
            "['Arjun', 'Kishor', 'Anu', 'Raj', 'Raj', 'Ford', 'BMW', 'Volvo']\n"
          ]
        }
      ]
    },
    {
      "cell_type": "code",
      "source": [
        "#reverse(); Reverses the order of thelist.\n",
        "names.reverse()\n",
        "print(names)"
      ],
      "metadata": {
        "colab": {
          "base_uri": "https://localhost:8080/"
        },
        "id": "DDCgREfhi3ZK",
        "outputId": "2a3adc6d-a683-4719-ccc5-1db30a8a4584"
      },
      "execution_count": 27,
      "outputs": [
        {
          "output_type": "stream",
          "name": "stdout",
          "text": [
            "['Volvo', 'BMW', 'Ford', 'Raj', 'Raj', 'Anu', 'Kishor', 'Arjun']\n"
          ]
        }
      ]
    },
    {
      "cell_type": "code",
      "source": [
        "#sort(): sorts the list.\n",
        "names.sort()\n",
        "print(names) "
      ],
      "metadata": {
        "colab": {
          "base_uri": "https://localhost:8080/"
        },
        "id": "tvI7Bm4ujeLF",
        "outputId": "074bb8d2-064f-4758-b20d-e25d0a2796fe"
      },
      "execution_count": 28,
      "outputs": [
        {
          "output_type": "stream",
          "name": "stdout",
          "text": [
            "['Anu', 'Arjun', 'BMW', 'Ford', 'Kishor', 'Raj', 'Raj', 'Volvo']\n"
          ]
        }
      ]
    }
  ]
}