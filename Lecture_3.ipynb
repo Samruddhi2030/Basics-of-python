{
  "nbformat": 4,
  "nbformat_minor": 0,
  "metadata": {
    "colab": {
      "name": "Lecture 3.ipynb",
      "provenance": [],
      "collapsed_sections": []
    },
    "kernelspec": {
      "name": "python3",
      "display_name": "Python 3"
    },
    "language_info": {
      "name": "python"
    }
  },
  "cells": [
    {
      "cell_type": "code",
      "execution_count": 1,
      "metadata": {
        "colab": {
          "base_uri": "https://localhost:8080/"
        },
        "id": "HJ8v62_c1gbp",
        "outputId": "3b06d5b1-22c6-4d61-81d0-345d30191f17"
      },
      "outputs": [
        {
          "output_type": "stream",
          "name": "stdout",
          "text": [
            "Demo for learning git\n"
          ]
        }
      ],
      "source": [
        "#Boolen equation:boolen represent one of the two values:True or False\n",
        "print(\"Demo for learning git\")"
      ]
    },
    {
      "cell_type": "code",
      "source": [
        "print(10>9)\n",
        "print(10==9)\n",
        "print(10<9)"
      ],
      "metadata": {
        "colab": {
          "base_uri": "https://localhost:8080/"
        },
        "id": "jgGqOF5j2HFP",
        "outputId": "5cc17d5c-ad69-42be-ea60-371d4b1ee205"
      },
      "execution_count": 2,
      "outputs": [
        {
          "output_type": "stream",
          "name": "stdout",
          "text": [
            "True\n",
            "False\n",
            "False\n"
          ]
        }
      ]
    },
    {
      "cell_type": "code",
      "source": [
        "#The bool()function allows you to evaluate any value,and give you True or False in return.\n",
        "print(bool(\"Hello\"))\n",
        "print(bool())"
      ],
      "metadata": {
        "colab": {
          "base_uri": "https://localhost:8080/"
        },
        "id": "iISdgAt02Sbm",
        "outputId": "9dbd09e7-e0b4-4cdc-f6c5-cf9bc9c6a997"
      },
      "execution_count": 3,
      "outputs": [
        {
          "output_type": "stream",
          "name": "stdout",
          "text": [
            "True\n",
            "False\n"
          ]
        }
      ]
    },
    {
      "cell_type": "code",
      "source": [
        "x=\"Hello\"\n",
        "y=15\n",
        "print(bool(x))\n",
        "print(bool(y))"
      ],
      "metadata": {
        "colab": {
          "base_uri": "https://localhost:8080/"
        },
        "id": "D4JAwWHV27oF",
        "outputId": "77da64c9-8dfa-457d-a971-dc7b5e1bc0ba"
      },
      "execution_count": 4,
      "outputs": [
        {
          "output_type": "stream",
          "name": "stdout",
          "text": [
            "True\n",
            "True\n"
          ]
        }
      ]
    },
    {
      "cell_type": "code",
      "source": [
        "#Some values are false\n",
        "print(bool(False))\n",
        "print(bool(None))\n",
        "print(bool(0))\n",
        "print(bool(\"\"))\n",
        "print(bool(()))\n",
        "print(bool([]))\n",
        "print(bool({}))"
      ],
      "metadata": {
        "colab": {
          "base_uri": "https://localhost:8080/"
        },
        "id": "pXwq8Yja3MGE",
        "outputId": "62476b64-3311-4f85-ce90-7225a4a09340"
      },
      "execution_count": 5,
      "outputs": [
        {
          "output_type": "stream",
          "name": "stdout",
          "text": [
            "False\n",
            "False\n",
            "False\n",
            "False\n",
            "False\n",
            "False\n",
            "False\n"
          ]
        }
      ]
    },
    {
      "cell_type": "markdown",
      "source": [
        "Comparison operators: Equal==\n",
        "                      Not equal!=\n",
        "                      Greater>\n",
        "                      Less<\n",
        "                      Greater than equal to>=\n",
        "                      Less than equal to<="
      ],
      "metadata": {
        "id": "-XC4AEGw3xIp"
      }
    },
    {
      "cell_type": "code",
      "source": [
        "x,y=15,9\n",
        "print(x==y)\n",
        "print(x!=y)\n",
        "print(x>y)\n",
        "print(x<y)\n",
        "print(x>=y)\n",
        "print(x<=y)"
      ],
      "metadata": {
        "colab": {
          "base_uri": "https://localhost:8080/"
        },
        "id": "RXHfBo2c4Kio",
        "outputId": "483ed31e-fe1c-4ac6-bfcb-c74ba180ceba"
      },
      "execution_count": 6,
      "outputs": [
        {
          "output_type": "stream",
          "name": "stdout",
          "text": [
            "False\n",
            "True\n",
            "True\n",
            "False\n",
            "True\n",
            "False\n"
          ]
        }
      ]
    },
    {
      "cell_type": "code",
      "source": [
        "x=8\n",
        "print(x<5 and x<10)\n",
        "print(x<5 or x<10)\n",
        "print(not(x>10))\n",
        "print(not(x<5 and x<10))"
      ],
      "metadata": {
        "colab": {
          "base_uri": "https://localhost:8080/"
        },
        "id": "hBQ_Lnt_4vOt",
        "outputId": "a6f33d79-8c44-4b34-b0d0-718c4924c540"
      },
      "execution_count": 7,
      "outputs": [
        {
          "output_type": "stream",
          "name": "stdout",
          "text": [
            "False\n",
            "True\n",
            "True\n",
            "True\n"
          ]
        }
      ]
    },
    {
      "cell_type": "code",
      "source": [
        "x,y=2,10\n",
        "print(x is y)\n",
        "print(x is not y)"
      ],
      "metadata": {
        "colab": {
          "base_uri": "https://localhost:8080/"
        },
        "id": "GJ2SBe4Y5UuR",
        "outputId": "2f9e8eaa-8955-4c98-bfdd-133356825471"
      },
      "execution_count": 8,
      "outputs": [
        {
          "output_type": "stream",
          "name": "stdout",
          "text": [
            "False\n",
            "True\n"
          ]
        }
      ]
    },
    {
      "cell_type": "code",
      "source": [
        "x,y='Hi',\"Hi\"\n",
        "print(x is y)\n",
        "print(x is not y)"
      ],
      "metadata": {
        "colab": {
          "base_uri": "https://localhost:8080/"
        },
        "id": "jbzlBAek5f-U",
        "outputId": "f5281724-31cd-4eac-e563-2212f5660430"
      },
      "execution_count": 9,
      "outputs": [
        {
          "output_type": "stream",
          "name": "stdout",
          "text": [
            "True\n",
            "False\n"
          ]
        }
      ]
    },
    {
      "cell_type": "markdown",
      "source": [
        "Membership operator\n",
        "*in\n",
        "*not in"
      ],
      "metadata": {
        "id": "pWoPRtyK5tCV"
      }
    },
    {
      "cell_type": "code",
      "source": [
        "x=\"Have a good Day!\" #he\n",
        "print(\"Have\" in x)\n",
        "print(\"H\" in x)\n",
        "print(\"av a\" in x)\n",
        "print(\"Good day\"in x)"
      ],
      "metadata": {
        "colab": {
          "base_uri": "https://localhost:8080/"
        },
        "id": "VZyPRhi953u1",
        "outputId": "877e919a-2337-4011-ce03-f202579594c3"
      },
      "execution_count": 11,
      "outputs": [
        {
          "output_type": "stream",
          "name": "stdout",
          "text": [
            "True\n",
            "True\n",
            "False\n",
            "False\n"
          ]
        }
      ]
    },
    {
      "cell_type": "code",
      "source": [
        "a=\"is not in Pune\"\n",
        "print('Pune' in a)"
      ],
      "metadata": {
        "colab": {
          "base_uri": "https://localhost:8080/"
        },
        "id": "zaLFIjyD6qsp",
        "outputId": "183a8035-66d7-4986-cead-d8db85fd7387"
      },
      "execution_count": 13,
      "outputs": [
        {
          "output_type": "stream",
          "name": "stdout",
          "text": [
            "True\n"
          ]
        }
      ]
    },
    {
      "cell_type": "code",
      "source": [
        "a=\"I like python\"\n",
        "print(a[-11:-7])\n",
        "print(a[2:6])"
      ],
      "metadata": {
        "colab": {
          "base_uri": "https://localhost:8080/"
        },
        "id": "DMtygSQ_7MEH",
        "outputId": "f6a32109-be1e-49b4-c95a-037643e7f708"
      },
      "execution_count": 14,
      "outputs": [
        {
          "output_type": "stream",
          "name": "stdout",
          "text": [
            "like\n",
            "like\n"
          ]
        }
      ]
    }
  ]
}