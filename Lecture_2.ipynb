{
  "nbformat": 4,
  "nbformat_minor": 0,
  "metadata": {
    "colab": {
      "name": "Lecture 2.ipynb",
      "provenance": [],
      "collapsed_sections": []
    },
    "kernelspec": {
      "name": "python3",
      "display_name": "Python 3"
    },
    "language_info": {
      "name": "python"
    }
  },
  "cells": [
    {
      "cell_type": "code",
      "execution_count": 1,
      "metadata": {
        "colab": {
          "base_uri": "https://localhost:8080/"
        },
        "id": "tPE7D7eoROKR",
        "outputId": "e04f88f1-b485-424b-82cf-741bc6d88adc"
      },
      "outputs": [
        {
          "output_type": "stream",
          "name": "stdout",
          "text": [
            "5\n",
            "<class 'int'>\n",
            "Good Day!\n",
            "<class 'str'>\n",
            "(5+2j)\n",
            "<class 'complex'>\n"
          ]
        }
      ],
      "source": [
        "#Data types in Python\n",
        "#Text data or string.\n",
        "x,y,z=5,\"Good Day!\",5+2j\n",
        "print(x)\n",
        "print(type(x))\n",
        "print(y)\n",
        "print(type(y))\n",
        "print(z)\n",
        "print(type(z))"
      ]
    },
    {
      "cell_type": "code",
      "source": [
        "x=1 #int\n",
        "y=2.8 #float\n",
        "z=1j #complex\n",
        "\n",
        "#convert from int to float\n",
        "a=float(x)\n",
        "#convert from float to int\n",
        "b=int(y)\n",
        "#covert int to complex\n",
        "c=complex(x)\n",
        "\n",
        "print(a)\n",
        "print(b)\n",
        "print(c)\n",
        "print(type(a))\n",
        "print(type(b))\n",
        "print(type(c))\n"
      ],
      "metadata": {
        "colab": {
          "base_uri": "https://localhost:8080/"
        },
        "id": "v6-U-55-TXhW",
        "outputId": "14081e7d-b264-470c-c806-04a0f2fb49e0"
      },
      "execution_count": 2,
      "outputs": [
        {
          "output_type": "stream",
          "name": "stdout",
          "text": [
            "1.0\n",
            "2\n",
            "(1+0j)\n",
            "<class 'float'>\n",
            "<class 'int'>\n",
            "<class 'complex'>\n"
          ]
        }
      ]
    },
    {
      "cell_type": "code",
      "source": [
        "#Assign string to variable\n",
        "a=\"Hello\"\n",
        "print(a)\n",
        "#Multiple string\n",
        "b=\"Future is AI\"\n",
        "print(b)\n",
        "#Three single quotes\n",
        "c='I love programming'\n",
        "print(c)"
      ],
      "metadata": {
        "colab": {
          "base_uri": "https://localhost:8080/"
        },
        "id": "qDdxx7tnUcxO",
        "outputId": "72382664-cbd6-4869-ca62-2d9f94ff9f0f"
      },
      "execution_count": 3,
      "outputs": [
        {
          "output_type": "stream",
          "name": "stdout",
          "text": [
            "Hello\n",
            "Future is AI\n",
            "I love programming\n"
          ]
        }
      ]
    },
    {
      "cell_type": "code",
      "source": [
        "a=\"Hi How are you?\"\n",
        "print(a.strip())\n",
        "print(a.lower())\n",
        "print(a.upper())\n",
        "print(a.replace(\"o\",\"j\"))\n",
        "print(a.split(\"o\"))"
      ],
      "metadata": {
        "colab": {
          "base_uri": "https://localhost:8080/"
        },
        "id": "4K7kMED1V7XV",
        "outputId": "b61970c1-b70f-40af-aea0-47de548f5352"
      },
      "execution_count": 5,
      "outputs": [
        {
          "output_type": "stream",
          "name": "stdout",
          "text": [
            "Hi How are you?\n",
            "hi how are you?\n",
            "HI HOW ARE YOU?\n",
            "Hi Hjw are yju?\n",
            "['Hi H', 'w are y', 'u?']\n"
          ]
        }
      ]
    }
  ]
}