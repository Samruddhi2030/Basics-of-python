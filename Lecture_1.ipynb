{
  "nbformat": 4,
  "nbformat_minor": 0,
  "metadata": {
    "colab": {
      "name": "Lecture 1.ipynb",
      "provenance": [],
      "collapsed_sections": []
    },
    "kernelspec": {
      "name": "python3",
      "display_name": "Python 3"
    },
    "language_info": {
      "name": "python"
    }
  },
  "cells": [
    {
      "cell_type": "code",
      "execution_count": 4,
      "metadata": {
        "id": "SMKxEcGKgpqf"
      },
      "outputs": [],
      "source": [
        "Name=\"Samruddhi\"\n",
        "Department='Statistics'\n",
        "github_id='Samruddhi2030'"
      ]
    },
    {
      "cell_type": "code",
      "source": [
        "#Demo for git learning"
      ],
      "metadata": {
        "id": "euuKjV50hu-B"
      },
      "execution_count": null,
      "outputs": []
    },
    {
      "cell_type": "code",
      "source": [
        "b=3\n",
        "c=\"3\"\n",
        "#3 is number\n",
        "#\"3\" is string "
      ],
      "metadata": {
        "id": "vGsGHORPh0fY"
      },
      "execution_count": 2,
      "outputs": []
    },
    {
      "cell_type": "code",
      "source": [
        "\"\"\"dfnsajkcjfchunhnuiniijijdivcoicic\"\"\""
      ],
      "metadata": {
        "colab": {
          "base_uri": "https://localhost:8080/",
          "height": 35
        },
        "id": "7LEDWDx8jRir",
        "outputId": "9a050702-8997-4ca7-dd39-d6dc74b472d3"
      },
      "execution_count": 3,
      "outputs": [
        {
          "output_type": "execute_result",
          "data": {
            "text/plain": [
              "'dfnsajkcjfchunhnuiniijijdivcoicic'"
            ],
            "application/vnd.google.colaboratory.intrinsic+json": {
              "type": "string"
            }
          },
          "metadata": {},
          "execution_count": 3
        }
      ]
    },
    {
      "cell_type": "code",
      "source": [
        "A_=1\n",
        "a_=2\n",
        "a=3\n",
        "A=4"
      ],
      "metadata": {
        "id": "GbwTYUWDjTWg"
      },
      "execution_count": 6,
      "outputs": []
    },
    {
      "cell_type": "code",
      "source": [
        "#Python as a calculator\n",
        "x,y=10,5\n",
        "print(\"Addition=\",x+y)\n",
        "print(\"Subtraction=\",x-y)\n",
        "print(\"Multiplication=\",x*y)\n",
        "print(\"Division=\",x/y)\n",
        "print(\"power=\",x**y)\n",
        "print(\"Modulus=\",x%y)\n"
      ],
      "metadata": {
        "colab": {
          "base_uri": "https://localhost:8080/"
        },
        "id": "lx-jbfqLqflT",
        "outputId": "3a438378-81dd-4e64-c8f5-71830e661132"
      },
      "execution_count": 7,
      "outputs": [
        {
          "output_type": "stream",
          "name": "stdout",
          "text": [
            "Addition= 15\n",
            "Subtraction= 5\n",
            "Multiplication= 50\n",
            "Division= 2.0\n",
            "power= 100000\n",
            "Modulus= 0\n"
          ]
        }
      ]
    },
    {
      "cell_type": "code",
      "source": [
        "#Assigning multiple variables\n",
        "x,y,z,a,b,c=\"Orange\",\"Banana\",\"Cherry\",\"241\",\"fwdfwe\",\"3236\"\n",
        "print(x)\n",
        "print(y)\n",
        "print(z)\n",
        "print(a)\n",
        "print(b)\n",
        "print(c)"
      ],
      "metadata": {
        "colab": {
          "base_uri": "https://localhost:8080/"
        },
        "id": "lc_ITWKNra7x",
        "outputId": "35567ce8-794a-4cbb-d365-269fb7f62621"
      },
      "execution_count": 9,
      "outputs": [
        {
          "output_type": "stream",
          "name": "stdout",
          "text": [
            "Orange\n",
            "Banana\n",
            "Cherry\n",
            "241\n",
            "fwdfwe\n",
            "3236\n"
          ]
        }
      ]
    }
  ]
}