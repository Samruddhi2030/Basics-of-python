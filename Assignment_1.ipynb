{
  "nbformat": 4,
  "nbformat_minor": 0,
  "metadata": {
    "colab": {
      "name": "Assignment 1.ipynb",
      "provenance": []
    },
    "kernelspec": {
      "name": "python3",
      "display_name": "Python 3"
    },
    "language_info": {
      "name": "python"
    }
  },
  "cells": [
    {
      "cell_type": "code",
      "execution_count": 1,
      "metadata": {
        "id": "_KlfDo_OpVVY"
      },
      "outputs": [],
      "source": [
        "Name=\"Samruddhi Mahesh Bilaskar\"\n",
        "Roll_No=9129"
      ]
    },
    {
      "cell_type": "markdown",
      "source": [
        "Lists"
      ],
      "metadata": {
        "id": "2wYi3pCsrVlN"
      }
    },
    {
      "cell_type": "code",
      "source": [
        "A=[\"Samruddhi\",\"Bilaskar\",21,\"Student\"]\n",
        "B=[\"SP College\",\"Autonomous\",\"Sadashiv Peth\",411030]\n",
        "print(A)\n",
        "print(B)"
      ],
      "metadata": {
        "colab": {
          "base_uri": "https://localhost:8080/"
        },
        "id": "8gZwhIVAqozg",
        "outputId": "84aec43b-9e0a-4f6b-bfb6-91b7c45f1b93"
      },
      "execution_count": 3,
      "outputs": [
        {
          "output_type": "stream",
          "name": "stdout",
          "text": [
            "['Samruddhi', 'Bilaskar', 21, 'Student']\n",
            "['SP College', 'Autonomous', 'Sadashiv Peth', 411030]\n"
          ]
        }
      ]
    },
    {
      "cell_type": "markdown",
      "source": [
        "Tupples"
      ],
      "metadata": {
        "id": "k5s6ClkFrXb1"
      }
    },
    {
      "cell_type": "code",
      "source": [
        "a=(\"Samruddhi\",\"Bilaskar\",21,\"Student\")\n",
        "b=(\"SP College\",\"Autonomous\",\"Sadashiv peth\",411030)\n",
        "print(a)\n",
        "print(b)"
      ],
      "metadata": {
        "colab": {
          "base_uri": "https://localhost:8080/"
        },
        "id": "A6H2hX3uraJU",
        "outputId": "52019c18-176d-4061-9ce4-38bbd1192de5"
      },
      "execution_count": 4,
      "outputs": [
        {
          "output_type": "stream",
          "name": "stdout",
          "text": [
            "('Samruddhi', 'Bilaskar', 21, 'Student')\n",
            "('SP College', 'Autonomous', 'Sadashiv peth', 411030)\n"
          ]
        }
      ]
    },
    {
      "cell_type": "code",
      "source": [
        "print(A[0:2])\n",
        "print(B[2:3])\n",
        "print(a[2])\n",
        "print(b[3])"
      ],
      "metadata": {
        "colab": {
          "base_uri": "https://localhost:8080/"
        },
        "id": "n47ykD-wsEZy",
        "outputId": "aa92a8af-6c9a-47f2-906c-afde5131373c"
      },
      "execution_count": 5,
      "outputs": [
        {
          "output_type": "stream",
          "name": "stdout",
          "text": [
            "['Samruddhi', 'Bilaskar']\n",
            "['Sadashiv Peth']\n",
            "21\n",
            "411030\n"
          ]
        }
      ]
    },
    {
      "cell_type": "markdown",
      "source": [
        "Class"
      ],
      "metadata": {
        "id": "PmFg47f8sVcR"
      }
    },
    {
      "cell_type": "code",
      "source": [
        "print(type(A))\n",
        "print(type(B))\n",
        "print(type(a))\n",
        "print(type(b))"
      ],
      "metadata": {
        "colab": {
          "base_uri": "https://localhost:8080/"
        },
        "id": "w6c-wgbVrTQn",
        "outputId": "692f2da3-b9f4-4bb4-e965-3aaa702e5a87"
      },
      "execution_count": 6,
      "outputs": [
        {
          "output_type": "stream",
          "name": "stdout",
          "text": [
            "<class 'list'>\n",
            "<class 'list'>\n",
            "<class 'tuple'>\n",
            "<class 'tuple'>\n"
          ]
        }
      ]
    },
    {
      "cell_type": "markdown",
      "source": [
        "Copy"
      ],
      "metadata": {
        "id": "o56yHOlnspFX"
      }
    },
    {
      "cell_type": "code",
      "source": [
        "print(A)\n",
        "A1=A.copy()\n",
        "print(A1)\n",
        "\n",
        "#Tupples cannot be copied."
      ],
      "metadata": {
        "colab": {
          "base_uri": "https://localhost:8080/"
        },
        "id": "-Nx8yaGIsnyJ",
        "outputId": "721459e1-f29a-4e26-aefb-a9bd1adec0e4"
      },
      "execution_count": 7,
      "outputs": [
        {
          "output_type": "stream",
          "name": "stdout",
          "text": [
            "['Samruddhi', 'Bilaskar', 21, 'Student']\n",
            "['Samruddhi', 'Bilaskar', 21, 'Student']\n"
          ]
        }
      ]
    },
    {
      "cell_type": "markdown",
      "source": [
        "Append"
      ],
      "metadata": {
        "id": "i22lBLBss9UI"
      }
    },
    {
      "cell_type": "code",
      "source": [
        "print(B)\n",
        "B.append(\"Autonomous\")\n",
        "print(B)\n",
        "\n",
        "##Tuples cannot be append"
      ],
      "metadata": {
        "colab": {
          "base_uri": "https://localhost:8080/"
        },
        "id": "P5GfukgHs8el",
        "outputId": "6da8f050-4a81-4d02-f58f-cdf09ad7b925"
      },
      "execution_count": 8,
      "outputs": [
        {
          "output_type": "stream",
          "name": "stdout",
          "text": [
            "['SP College', 'Autonomous', 'Sadashiv Peth', 411030]\n",
            "['SP College', 'Autonomous', 'Sadashiv Peth', 411030, 'Autonomous']\n"
          ]
        }
      ]
    },
    {
      "cell_type": "markdown",
      "source": [
        "Count"
      ],
      "metadata": {
        "id": "iVZueagPtSAe"
      }
    },
    {
      "cell_type": "code",
      "source": [
        "print(A.count(\"Samruddhi\"))\n",
        "A.append(\"Samruddhi\")\n",
        "print(A.count(\"Samruddhi\"))"
      ],
      "metadata": {
        "colab": {
          "base_uri": "https://localhost:8080/"
        },
        "id": "GXGqFRr6tOcY",
        "outputId": "e3bbfd4e-5320-4cd2-c8de-f1a186658f76"
      },
      "execution_count": 9,
      "outputs": [
        {
          "output_type": "stream",
          "name": "stdout",
          "text": [
            "1\n",
            "2\n"
          ]
        }
      ]
    },
    {
      "cell_type": "markdown",
      "source": [
        "Delete List"
      ],
      "metadata": {
        "id": "i00wTy26tmo5"
      }
    },
    {
      "cell_type": "code",
      "source": [
        "try:\n",
        "  print(A1)\n",
        "  del A1\n",
        "  print(A1)\n",
        "  except:\n",
        "    Pass\n",
        "\n",
        "    ##List A1 is deleted therefore it is showing error.\n",
        "    ##used try and expect to maintain the continuity of the program."
      ],
      "metadata": {
        "colab": {
          "base_uri": "https://localhost:8080/",
          "height": 130
        },
        "id": "pvONL1V2tpQh",
        "outputId": "7eb69ca1-1e59-4df8-b69b-cefec82ca2dc"
      },
      "execution_count": 10,
      "outputs": [
        {
          "output_type": "error",
          "ename": "SyntaxError",
          "evalue": "ignored",
          "traceback": [
            "\u001b[0;36m  File \u001b[0;32m\"<ipython-input-10-4f30a41930c6>\"\u001b[0;36m, line \u001b[0;32m5\u001b[0m\n\u001b[0;31m    except:\u001b[0m\n\u001b[0m         ^\u001b[0m\n\u001b[0;31mSyntaxError\u001b[0m\u001b[0;31m:\u001b[0m invalid syntax\n"
          ]
        }
      ]
    },
    {
      "cell_type": "markdown",
      "source": [
        "Extend"
      ],
      "metadata": {
        "id": "CVu4mqkiuJaf"
      }
    },
    {
      "cell_type": "code",
      "source": [
        "print(A)\n",
        "print(B)\n",
        "A.extend(B)\n",
        "print(A)"
      ],
      "metadata": {
        "colab": {
          "base_uri": "https://localhost:8080/"
        },
        "id": "DeKx617GuLlW",
        "outputId": "ca0f963d-85d2-4888-d3ad-addc6193603f"
      },
      "execution_count": 11,
      "outputs": [
        {
          "output_type": "stream",
          "name": "stdout",
          "text": [
            "['Samruddhi', 'Bilaskar', 21, 'Student', 'Samruddhi']\n",
            "['SP College', 'Autonomous', 'Sadashiv Peth', 411030, 'Autonomous']\n",
            "['Samruddhi', 'Bilaskar', 21, 'Student', 'Samruddhi', 'SP College', 'Autonomous', 'Sadashiv Peth', 411030, 'Autonomous']\n"
          ]
        }
      ]
    },
    {
      "cell_type": "markdown",
      "source": [
        "Index"
      ],
      "metadata": {
        "id": "LXAvzXi6uZnC"
      }
    },
    {
      "cell_type": "code",
      "source": [
        "print(B.index(\"Sadashiv Peth\"))\n",
        "print(A.index(\"Autonomous\"))\n",
        "\n",
        "##If the elemets are repeated in the list then index() will provide the index no.of first element"
      ],
      "metadata": {
        "colab": {
          "base_uri": "https://localhost:8080/"
        },
        "id": "Sg9dFG9mua9J",
        "outputId": "04cf0f60-242b-443e-9a6d-66a9ad51ac42"
      },
      "execution_count": 13,
      "outputs": [
        {
          "output_type": "stream",
          "name": "stdout",
          "text": [
            "2\n",
            "6\n"
          ]
        }
      ]
    },
    {
      "cell_type": "markdown",
      "source": [
        "Sort"
      ],
      "metadata": {
        "id": "f7NLVDA_u6hE"
      }
    },
    {
      "cell_type": "code",
      "source": [
        "k=[\"D\",\"A\",\"C\",\"B\"]\n",
        "print(k)\n",
        "k1=[4,2,1,3]\n",
        "print(k1)\n",
        "k.sort()\n",
        "k1.sort()\n",
        "print(k)\n",
        "print(k1)\n",
        "\n",
        "##For sorting all the element in the list should be of same type."
      ],
      "metadata": {
        "colab": {
          "base_uri": "https://localhost:8080/"
        },
        "id": "4psagd9Ou7nk",
        "outputId": "a61c40cd-e0f2-4d0b-f503-352ef7a94256"
      },
      "execution_count": 14,
      "outputs": [
        {
          "output_type": "stream",
          "name": "stdout",
          "text": [
            "['D', 'A', 'C', 'B']\n",
            "[4, 2, 1, 3]\n",
            "['A', 'B', 'C', 'D']\n",
            "[1, 2, 3, 4]\n"
          ]
        }
      ]
    },
    {
      "cell_type": "markdown",
      "source": [
        "Access"
      ],
      "metadata": {
        "id": "cerb7JnVvdkR"
      }
    },
    {
      "cell_type": "code",
      "source": [
        "print(k[:2])\n",
        "print(k1[0:])"
      ],
      "metadata": {
        "colab": {
          "base_uri": "https://localhost:8080/"
        },
        "id": "H-8dctVTvewx",
        "outputId": "24e2bebb-0ea4-40e8-d004-d6d21621349d"
      },
      "execution_count": 15,
      "outputs": [
        {
          "output_type": "stream",
          "name": "stdout",
          "text": [
            "['A', 'B']\n",
            "[1, 2, 3, 4]\n"
          ]
        }
      ]
    },
    {
      "cell_type": "markdown",
      "source": [
        "Nested List"
      ],
      "metadata": {
        "id": "fxVwIxJVvnx8"
      }
    },
    {
      "cell_type": "code",
      "source": [
        "ABlist=[\"Samruddhi\",\"SP college\",[21,411030]]\n",
        "print(ABlist)\n",
        "print(ABlist[2])"
      ],
      "metadata": {
        "colab": {
          "base_uri": "https://localhost:8080/"
        },
        "id": "C_3odW0wvppZ",
        "outputId": "ab88653f-c5b6-48b3-a651-d34fdd14dce2"
      },
      "execution_count": 16,
      "outputs": [
        {
          "output_type": "stream",
          "name": "stdout",
          "text": [
            "['Samruddhi', 'SP college', [21, 411030]]\n",
            "[21, 411030]\n"
          ]
        }
      ]
    }
  ]
}